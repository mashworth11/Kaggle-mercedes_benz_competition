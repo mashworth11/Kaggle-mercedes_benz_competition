{
 "cells": [
  {
   "cell_type": "markdown",
   "metadata": {},
   "source": [
    "# Feature interactions for Mercedes-Benz Kagglin'"
   ]
  },
  {
   "cell_type": "markdown",
   "metadata": {},
   "source": [
    "## Questions we want to be asking ourselves\n",
    "Feature interactions\n",
    "* Why look for feature interactions? \n",
    "* What methods should we be using for finding feature interactions in the current?\n",
    "\n",
    "Dimensionality reduction\n",
    "* Dimensionality reduction then feature interactions or vice-versa?\n",
    "* What is the intuition into PCA? \n",
    "\n",
    "Feature selection\n",
    "* Best tools for deciding feature importances?\n",
    "* Backward elimination? (from comp. winner)\n",
    "\n",
    "Workflow for using feature interactions in...\n",
    "https://www.kaggle.com/c/allstate-claims-severity/discussion/26527\n",
    "\n",
    "XGB approach:\n",
    "1) Train model on raw features using XGB(fir)\n",
    "2) Look at features with respect to gain (feature importance)\n",
    "3) Create interactions based on e.g. a polynomial transformation\n",
    "4) Train model on new features and have another look at features with respect to gain"
   ]
  },
  {
   "cell_type": "markdown",
   "metadata": {},
   "source": [
    "## Aims for next week"
   ]
  },
  {
   "cell_type": "markdown",
   "metadata": {},
   "source": [
    "* Do a run of XGB(fir) on the data, looking at importances and interactions\n",
    "* Understand how we're scoring in this comp. \n",
    "* Do another run with XGB, this time including interactions\n",
    "* Feature selections\n",
    "* Don't forget comparing training and testing sets"
   ]
  }
 ],
 "metadata": {
  "kernelspec": {
   "display_name": "Python 3",
   "language": "python",
   "name": "python3"
  },
  "language_info": {
   "codemirror_mode": {
    "name": "ipython",
    "version": 3
   },
   "file_extension": ".py",
   "mimetype": "text/x-python",
   "name": "python",
   "nbconvert_exporter": "python",
   "pygments_lexer": "ipython3",
   "version": "3.7.4"
  }
 },
 "nbformat": 4,
 "nbformat_minor": 4
}
